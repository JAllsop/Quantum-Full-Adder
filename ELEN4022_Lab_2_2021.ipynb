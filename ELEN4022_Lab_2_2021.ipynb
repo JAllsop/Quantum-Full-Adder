{
 "cells": [
  {
   "cell_type": "markdown",
   "id": "loved-counter",
   "metadata": {},
   "source": [
    "# School of Electrical and Information Engineering\n",
    "### University of the Witwatersrand, Johannesburg\n",
    "### ELEN4022 — Full Stack Quantum Computing"
   ]
  },
  {
   "cell_type": "markdown",
   "id": "annual-straight",
   "metadata": {},
   "source": [
    "# Outcome\n",
    "This is an individual laboratory exercise. You are expected to familiarise yourself, learn and under-stand the use of the following:\n",
    "\n",
    "1. A basic understanding of how circuit simulation compares to quantum hardware in Qiskit\n",
    "2. A good intuition of classical and quantum gate approaches differ \n",
    "3. Programming idiomatic Python in a Jupyter environment\n",
    "4. Reporting findings within your notebook using TeX and Markdown features\n",
    "5. Having a git workflow with jupyter notebooks"
   ]
  },
  {
   "cell_type": "markdown",
   "id": "dramatic-adrian",
   "metadata": {},
   "source": [
    "# Work Schedule\n",
    "Make sure you understand the classical gate and circuit approaches to half and full adder circuits first. In small steps \n",
    "make sure you can build up the quantum counterparts and make sense of simulation and real hardware results for simple quantum circuits. Research the kinds of problems quantum computers are suited to *and* the types of problems they are not suited to and why."
   ]
  },
  {
   "cell_type": "markdown",
   "id": "aggregate-processor",
   "metadata": {},
   "source": [
    "### Problem Description: Build a quantum full adder circuit routine, simulate it and run it on quantum hardware, compare both to the classical counterpart"
   ]
  },
  {
   "cell_type": "code",
   "execution_count": 1,
   "id": "overall-selection",
   "metadata": {},
   "outputs": [],
   "source": [
    "%matplotlib inline\n",
    "# Importing standard Qiskit libraries\n",
    "from qiskit import QuantumCircuit, execute, Aer, IBMQ\n",
    "from qiskit.compiler import transpile, assemble\n",
    "from qiskit.tools.jupyter import *\n",
    "from qiskit.visualization import *\n",
    "from ibm_quantum_widgets import *\n",
    "\n",
    "# Loading your IBM Q account(s)\n",
    "provider = IBMQ.load_account()"
   ]
  },
  {
   "cell_type": "markdown",
   "id": "0023cb7b",
   "metadata": {},
   "source": [
    "Convince yourself that CNOT acts like an XOR gate in the computational basis."
   ]
  },
  {
   "cell_type": "markdown",
   "id": "a0289343",
   "metadata": {},
   "source": [
    "\n",
    "The following circuit implements\n",
    "$$|\\psi\\rangle_0\\oplus|\\psi\\rangle_1 = |\\psi\\rangle_2$$\n",
    "or alternatively $$(|\\psi\\rangle_0+|\\psi\\rangle_1)mod2 = |\\psi\\rangle_2$$\n",
    "and uses an ancilla qubit such that the original input $|\\psi\\rangle$ values are not modified."
   ]
  },
  {
   "cell_type": "code",
   "execution_count": 2,
   "id": "34d1eae9",
   "metadata": {
    "scrolled": true
   },
   "outputs": [
    {
     "data": {
      "image/png": "[encoded data removed]",
      "text/plain": [
       "<Figure size 340.378x264.88 with 1 Axes>"
      ]
     },
     "execution_count": 2,
     "metadata": {},
     "output_type": "execute_result"
    }
   ],
   "source": [
    "from qiskit import ClassicalRegister, QuantumRegister\n",
    "\n",
    "c = ClassicalRegister(3)\n",
    "q = QuantumRegister(3)\n",
    "qc = QuantumCircuit(c, q)\n",
    "\n",
    "SUM = QuantumCircuit(q, name=' SUM')\n",
    "SUM.cx(0, 2)\n",
    "SUM.cx(1, 2)\n",
    "SUM = SUM.to_instruction()\n",
    "qc.append(SUM, [q[0], q[1], q[2]])\n",
    "\n",
    "qc.barrier()\n",
    "qc.measure(q[2], c[2])\n",
    "qc.draw(output='mpl', plot_barriers=True)"
   ]
  },
  {
   "cell_type": "markdown",
   "id": "4e513570",
   "metadata": {},
   "source": [
    "However it does not take into account carry in or carry out qubits. And so a carry subroutine is required to create a full adder. The final goal is to be able to provide an analysis of a qubit full adder both by simulating the ideal quantum result and by running it on quantum hardware compared to the classical method."
   ]
  },
  {
   "cell_type": "markdown",
   "id": "requested-vector",
   "metadata": {},
   "source": [
    "## Notes\n",
    "- The hardware has queues and you will have to wait for the results.\n",
    "- Think about which outputs will represent which bit index of the result and document this.\n",
    "- For 'fun' in your analysis can you demonstrate a useful result by running the circuit in reverse?\n",
    "- For 'fun' can you from the adder, deduce in Big O notation the gates required for raising a qubit number to another?\n",
    "- You do *not* have to code a classical full adder.\n",
    "- You do *not* have to make the quantum adder a general adder."
   ]
  },
  {
   "cell_type": "markdown",
   "id": "brazilian-thesis",
   "metadata": {},
   "source": [
    "# Deliverables\n",
    "- Subroutines that implement the SUM and CARRY as well as the final FULLADDER class\n",
    "- A 3 and 5 qubit full adder simulated and the 3 qubit adder run on quantum hardware\n",
    "- Analysis on the the scaling of the adder both algorithmically and the resources required in the report\n",
    "- Comparison of the results in the report\n",
    "- Your notebook in the Github Organisation\n",
    "\n",
    "ELEN4022 Laboratory Exercise 2 — 2021 — Version 0.9"
   ]
  },
  {
   "cell_type": "code",
   "execution_count": null,
   "id": "statistical-passport",
   "metadata": {},
   "outputs": [],
   "source": []
  }
 ],
 "metadata": {
  "kernelspec": {
   "display_name": "Python 3",
   "language": "python",
   "name": "python3"
  },
  "language_info": {
   "codemirror_mode": {
    "name": "ipython",
    "version": 3
   },
   "file_extension": ".py",
   "mimetype": "text/x-python",
   "name": "python",
   "nbconvert_exporter": "python",
   "pygments_lexer": "ipython3",
   "version": "3.8.8"
  }
 },
 "nbformat": 4,
 "nbformat_minor": 5
}
